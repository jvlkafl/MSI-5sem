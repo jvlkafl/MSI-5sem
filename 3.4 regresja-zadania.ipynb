{
 "cells": [
  {
   "cell_type": "code",
   "execution_count": 6,
   "id": "80c24d0d",
   "metadata": {},
   "outputs": [],
   "source": [
    "#wczytaj plik kc_house_data.csv\n",
    "import pandas as pd\n",
    "import numpy as np\n",
    "\n",
    "df=pd.read_csv('./datasets/kc_house_data.csv')"
   ]
  },
  {
   "cell_type": "code",
   "execution_count": 7,
   "id": "b67aadc3",
   "metadata": {},
   "outputs": [],
   "source": [
    "#za pomocą polecenia drop usuń co najmniej kolumny \"id\" oraz \"date\"\n",
    "df.drop(['id','date'],axis=1,inplace=True)"
   ]
  },
  {
   "cell_type": "code",
   "execution_count": 8,
   "id": "9f431d5c",
   "metadata": {},
   "outputs": [],
   "source": [
    "# 1. do zmiennej y przypisz zawartość kolumny price\n",
    "# 2. do zmiennej X przypisz zawartość wszystkich kolumn poza price, skorzystaj z polecenia drop\n",
    "y=df['price']\n",
    "X=df.drop(['price'],axis=1)"
   ]
  },
  {
   "cell_type": "code",
   "execution_count": 9,
   "id": "55e39617",
   "metadata": {},
   "outputs": [],
   "source": [
    "#podziel dana na treningowe i testowe, przyjmij train_size = 0.8\n",
    "from sklearn.model_selection import train_test_split\n",
    "X_train,X_test,y_train,y_test=train_test_split(X,y,train_size=0.8)"
   ]
  },
  {
   "cell_type": "code",
   "execution_count": 10,
   "id": "7c5dfc03",
   "metadata": {},
   "outputs": [
    {
     "name": "stdout",
     "output_type": "stream",
     "text": [
      "MSE:  33672177908.105793\n",
      "MAE:  123166.4857204177\n"
     ]
    }
   ],
   "source": [
    "#zbuduj model, wytrenuj go, nastepnie wyświetl mse i mae\n",
    "from sklearn.linear_model import LinearRegression\n",
    "from sklearn.metrics import mean_squared_error,mean_absolute_error\n",
    "model=LinearRegression()\n",
    "model.fit(X_train,y_train)\n",
    "y_pred=model.predict(X_test)\n",
    "print('MSE: ',mean_squared_error(y_test,y_pred))\n",
    "print('MAE: ',mean_absolute_error(y_test,y_pred))\n"
   ]
  },
  {
   "cell_type": "code",
   "execution_count": null,
   "id": "2182843d",
   "metadata": {},
   "outputs": [],
   "source": []
  }
 ],
 "metadata": {
  "kernelspec": {
   "display_name": "Python 3 (ipykernel)",
   "language": "python",
   "name": "python3"
  },
  "language_info": {
   "codemirror_mode": {
    "name": "ipython",
    "version": 3
   },
   "file_extension": ".py",
   "mimetype": "text/x-python",
   "name": "python",
   "nbconvert_exporter": "python",
   "pygments_lexer": "ipython3",
   "version": "3.9.13"
  }
 },
 "nbformat": 4,
 "nbformat_minor": 5
}
