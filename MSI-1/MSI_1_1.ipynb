{
 "cells": [
  {
   "cell_type": "code",
   "execution_count": null,
   "id": "af7014dc",
   "metadata": {},
   "outputs": [],
   "source": [
    "import pandas as pd\n",
    "import matplotlib as plt\n",
    "import numpy as np"
   ]
  },
  {
   "cell_type": "code",
   "execution_count": null,
   "id": "5ef803e5",
   "metadata": {},
   "outputs": [],
   "source": [
    "df=pd.read_csv('./datasets/StudentsPerformance.csv')"
   ]
  },
  {
   "cell_type": "code",
   "execution_count": null,
   "id": "05e4cac7",
   "metadata": {},
   "outputs": [],
   "source": [
    "df"
   ]
  },
  {
   "cell_type": "code",
   "execution_count": null,
   "id": "e9f6f09d",
   "metadata": {},
   "outputs": [],
   "source": [
    "df.describe()"
   ]
  },
  {
   "cell_type": "code",
   "execution_count": null,
   "id": "8abbe2c8",
   "metadata": {},
   "outputs": [],
   "source": [
    "df['gender'].value_counts()"
   ]
  },
  {
   "cell_type": "code",
   "execution_count": null,
   "id": "5e0ab467",
   "metadata": {},
   "outputs": [],
   "source": [
    "df.head(5)"
   ]
  },
  {
   "cell_type": "code",
   "execution_count": null,
   "id": "51b69887",
   "metadata": {},
   "outputs": [],
   "source": [
    "df['lunch']\n",
    "#żeby wyświetlić wszystkie wiersze:\n",
    "#for element in df['lunch']:\n",
    "#    print(element)"
   ]
  },
  {
   "cell_type": "code",
   "execution_count": null,
   "id": "a97168d1",
   "metadata": {},
   "outputs": [],
   "source": [
    "columns=df.columns\n",
    "columns"
   ]
  },
  {
   "cell_type": "code",
   "execution_count": null,
   "id": "047752bf",
   "metadata": {},
   "outputs": [],
   "source": [
    "df.sort_values(['math score'])"
   ]
  },
  {
   "cell_type": "code",
   "execution_count": null,
   "id": "b0186dff",
   "metadata": {},
   "outputs": [],
   "source": [
    "df.sort_values(['math score', 'writing score'])\n",
    "#żeby posortować \"na zawsze\", trzeba utworzyć nowy dataframe:\n",
    "#df2=df.sort_values(['math score', 'writing score'])"
   ]
  },
  {
   "cell_type": "code",
   "execution_count": null,
   "id": "e922849d",
   "metadata": {},
   "outputs": [],
   "source": [
    "df['Total score']=0\n",
    "df"
   ]
  },
  {
   "cell_type": "code",
   "execution_count": null,
   "id": "d04d514f",
   "metadata": {},
   "outputs": [],
   "source": [
    "df['Total score']=df.iloc[:,5:8].sum(axis=1)\n",
    "df"
   ]
  },
  {
   "cell_type": "code",
   "execution_count": null,
   "id": "b0382ca6",
   "metadata": {},
   "outputs": [],
   "source": [
    "df.sort_values(['Total score'])"
   ]
  },
  {
   "cell_type": "code",
   "execution_count": null,
   "id": "91ca03de",
   "metadata": {},
   "outputs": [],
   "source": [
    "df.drop(['Total score'],axis=1)"
   ]
  },
  {
   "cell_type": "code",
   "execution_count": null,
   "id": "138773b5",
   "metadata": {},
   "outputs": [],
   "source": []
  }
 ],
 "metadata": {
  "kernelspec": {
   "display_name": "Python 3 (ipykernel)",
   "language": "python",
   "name": "python3"
  },
  "language_info": {
   "codemirror_mode": {
    "name": "ipython",
    "version": 3
   },
   "file_extension": ".py",
   "mimetype": "text/x-python",
   "name": "python",
   "nbconvert_exporter": "python",
   "pygments_lexer": "ipython3",
   "version": "3.9.13"
  }
 },
 "nbformat": 4,
 "nbformat_minor": 5
}
