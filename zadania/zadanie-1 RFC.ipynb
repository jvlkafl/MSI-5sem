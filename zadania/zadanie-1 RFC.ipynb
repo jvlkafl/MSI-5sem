{
 "cells": [
  {
   "cell_type": "code",
   "execution_count": null,
   "metadata": {},
   "outputs": [],
   "source": [
    "import pandas as pd\n",
    "import numpy as np\n",
    "import matplotlib.pyplot as plt\n",
    "\n",
    "df= pd.read_csv('data.csv', sep=';')"
   ]
  },
  {
   "cell_type": "code",
   "execution_count": null,
   "metadata": {},
   "outputs": [],
   "source": [
    "df"
   ]
  },
  {
   "cell_type": "code",
   "execution_count": null,
   "metadata": {},
   "outputs": [],
   "source": [
    "df.shape"
   ]
  },
  {
   "cell_type": "code",
   "execution_count": null,
   "metadata": {},
   "outputs": [],
   "source": [
    "df.describe()"
   ]
  },
  {
   "cell_type": "code",
   "execution_count": null,
   "metadata": {},
   "outputs": [],
   "source": [
    "df.info()"
   ]
  },
  {
   "cell_type": "code",
   "execution_count": null,
   "metadata": {},
   "outputs": [],
   "source": [
    "#check different data types for each column\n",
    "df.dtypes.value_counts()"
   ]
  },
  {
   "cell_type": "code",
   "execution_count": null,
   "metadata": {},
   "outputs": [],
   "source": [
    "\n",
    "# Create a DataFrame\n",
    "share_df = pd.DataFrame({\n",
    "    'Numerical Share': df['Target'].value_counts(),\n",
    "    'Percentage Share': df['Target'].value_counts(normalize=True) * 100\n",
    "})\n",
    "\n",
    "print(share_df.to_latex())\n"
   ]
  },
  {
   "cell_type": "code",
   "execution_count": null,
   "metadata": {},
   "outputs": [],
   "source": [
    "temp = pd.get_dummies(df_regression.Target, prefix='is')"
   ]
  },
  {
   "cell_type": "code",
   "execution_count": null,
   "metadata": {},
   "outputs": [],
   "source": [
    "temp"
   ]
  },
  {
   "cell_type": "code",
   "execution_count": null,
   "metadata": {},
   "outputs": [],
   "source": [
    "df_regression['is_Dropout'] = temp['is_Dropout']\n",
    "df_regression['is_Enrolled'] = temp['is_Enrolled']\n",
    "df_regression['is_Graduate'] = temp['is_Graduate']"
   ]
  },
  {
   "cell_type": "code",
   "execution_count": null,
   "metadata": {},
   "outputs": [],
   "source": [
    "df_regression.drop(['Target'], axis=1, inplace=True)"
   ]
  },
  {
   "cell_type": "code",
   "execution_count": null,
   "metadata": {},
   "outputs": [],
   "source": [
    "X = df_regression.drop(['is_Dropout', 'is_Enrolled', 'is_Graduate'], axis=1)\n",
    "y = df_regression[['is_Dropout', 'is_Enrolled', 'is_Graduate']]"
   ]
  },
  {
   "cell_type": "code",
   "execution_count": null,
   "metadata": {},
   "outputs": [],
   "source": [
    "print(X.shape)"
   ]
  },
  {
   "cell_type": "markdown",
   "metadata": {},
   "source": [
    "RFC"
   ]
  },
  {
   "cell_type": "code",
   "execution_count": 48,
   "metadata": {},
   "outputs": [
    {
     "name": "stdout",
     "output_type": "stream",
     "text": [
      "n: 10 , m: 10 : 0.7367231638418079\n",
      "n: 10 , m: 100 : 0.7435028248587571\n",
      "n: 10 , m: 1000 : 0.752542372881356\n",
      "n: 100 , m: 10 : 0.7593220338983051\n",
      "n: 100 , m: 100 : 0.7740112994350282\n",
      "n: 100 , m: 1000 : 0.7728813559322034\n",
      "n: 1000 , m: 10 : 0.7615819209039548\n",
      "n: 1000 , m: 100 : 0.7728813559322034\n",
      "n: 1000 , m: 1000 : 0.7728813559322034\n"
     ]
    }
   ],
   "source": [
    "from sklearn.ensemble import RandomForestClassifier\n",
    "from sklearn.datasets import make_classification\n",
    "\n",
    "def clas_forest(X,y, n_estimators, max_depth):\n",
    "    X_train, X_test, y_train, y_test = train_test_split(X, y, train_size= 0.8, random_state=42) #zmienić random_state\n",
    "    model = RandomForestClassifier(n_estimators=n_estimators, max_depth=max_depth)\n",
    "    model.fit(X_train, y_train)\n",
    "    y_pred = model.predict(X_test)\n",
    "    return accuracy_score(y_test, y_pred)\n",
    "\n",
    "results = []\n",
    "n_estimators = [10, 100, 1000]\n",
    "max_depth = [10, 100, 1000] \n",
    "for n in n_estimators:\n",
    "    small_list = []\n",
    "    for m in max_depth:\n",
    "        small_list.append(clas_forest(X,y, n, m))\n",
    "        print('n:', n, ', m:', m, ':', small_list[-1])\n",
    "    results.append(small_list)\n"
   ]
  },
  {
   "cell_type": "code",
   "execution_count": 49,
   "metadata": {},
   "outputs": [
    {
     "name": "stdout",
     "output_type": "stream",
     "text": [
      "\\begin{tabular}{lrrr}\n",
      "\\toprule\n",
      " & 10 & 100 & 1000 \\\\\n",
      "\\midrule\n",
      "10 & 0.736723 & 0.743503 & 0.752542 \\\\\n",
      "100 & 0.759322 & 0.774011 & 0.772881 \\\\\n",
      "1000 & 0.761582 & 0.772881 & 0.772881 \\\\\n",
      "\\bottomrule\n",
      "\\end{tabular}\n",
      "\n"
     ]
    }
   ],
   "source": [
    "res_df=pd.DataFrame(results, columns=max_depth, index=n_estimators)\n",
    "latex=res_df.to_latex()\n",
    "print(latex)"
   ]
  },
  {
   "cell_type": "code",
   "execution_count": 50,
   "metadata": {},
   "outputs": [],
   "source": [
    "new_data = df.drop(columns=['Nacionality', \n",
    "                                  'Mother\\'s qualification', \n",
    "                                  'Father\\'s qualification', \n",
    "                                  'Father\\'s occupation',\n",
    "                                  'Mother\\'s occupation',\n",
    "                                  'Educational special needs', \n",
    "                                  'International', \n",
    "                                  'Educational special needs',\n",
    "                                  'Curricular units 1st sem (without evaluations)',\n",
    "                                  'Unemployment rate',\n",
    "                                  'Inflation rate'], axis=1)\n"
   ]
  },
  {
   "cell_type": "code",
   "execution_count": 51,
   "metadata": {},
   "outputs": [],
   "source": [
    "X = new_data.drop(['Target'], axis=1)\n",
    "y = new_data['Target']"
   ]
  },
  {
   "cell_type": "code",
   "execution_count": 52,
   "metadata": {},
   "outputs": [
    {
     "name": "stdout",
     "output_type": "stream",
     "text": [
      "n: 10 , m: 10 : 0.7457627118644068\n",
      "n: 10 , m: 100 : 0.735593220338983\n",
      "n: 10 , m: 1000 : 0.751412429378531\n",
      "n: 100 , m: 10 : 0.7570621468926554\n",
      "n: 100 , m: 100 : 0.7581920903954802\n",
      "n: 100 , m: 1000 : 0.7649717514124293\n",
      "n: 1000 , m: 10 : 0.751412429378531\n",
      "n: 1000 , m: 100 : 0.7649717514124293\n",
      "n: 1000 , m: 1000 : 0.7717514124293785\n"
     ]
    }
   ],
   "source": [
    "def clas_forest(X,y, n_estimators, max_depth):\n",
    "    X_train, X_test, y_train, y_test = train_test_split(X, y, train_size= 0.8, random_state=42) #zmienić random_state\n",
    "    model = RandomForestClassifier(n_estimators=n_estimators, max_depth=max_depth)\n",
    "    model.fit(X_train, y_train)\n",
    "    y_pred = model.predict(X_test)\n",
    "    return accuracy_score(y_test, y_pred)\n",
    "\n",
    "results = []\n",
    "n_estimators = [10, 100, 1000]\n",
    "max_depth = [10, 100, 1000] \n",
    "for n in n_estimators:\n",
    "    small_list = []\n",
    "    for m in max_depth:\n",
    "        small_list.append(clas_forest(X,y, n, m))\n",
    "        print('n:', n, ', m:', m, ':', small_list[-1])\n",
    "    results.append(small_list)\n"
   ]
  },
  {
   "cell_type": "code",
   "execution_count": 53,
   "metadata": {},
   "outputs": [
    {
     "name": "stdout",
     "output_type": "stream",
     "text": [
      "\\begin{tabular}{lrrr}\n",
      "\\toprule\n",
      " & 10 & 100 & 1000 \\\\\n",
      "\\midrule\n",
      "10 & 0.745763 & 0.735593 & 0.751412 \\\\\n",
      "100 & 0.757062 & 0.758192 & 0.764972 \\\\\n",
      "1000 & 0.751412 & 0.764972 & 0.771751 \\\\\n",
      "\\bottomrule\n",
      "\\end{tabular}\n",
      "\n"
     ]
    }
   ],
   "source": [
    "res_df=pd.DataFrame(results, columns=max_depth, index=n_estimators)\n",
    "latex=res_df.to_latex()\n",
    "print(latex)"
   ]
  },
  {
   "cell_type": "code",
   "execution_count": null,
   "metadata": {},
   "outputs": [],
   "source": []
  }
 ],
 "metadata": {
  "kernelspec": {
   "display_name": "base",
   "language": "python",
   "name": "python3"
  },
  "language_info": {
   "codemirror_mode": {
    "name": "ipython",
    "version": 3
   },
   "file_extension": ".py",
   "mimetype": "text/x-python",
   "name": "python",
   "nbconvert_exporter": "python",
   "pygments_lexer": "ipython3",
   "version": "3.9.13"
  }
 },
 "nbformat": 4,
 "nbformat_minor": 2
}
